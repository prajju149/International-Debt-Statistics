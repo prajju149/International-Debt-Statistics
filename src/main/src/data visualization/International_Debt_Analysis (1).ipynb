{
 "cells": [
  {
   "cell_type": "markdown",
   "metadata": {},
   "source": [
    "# 🌍 International Debt Statistics Visualization Project\n",
    "\n",
    "This Jupyter notebook analyzes global debt statistics from 2018 to 2021. It includes data preparation, visualizations, and key insights.\n"
   ]
  },
  {
   "cell_type": "code",
   "execution_count": 1,
   "metadata": {},
   "outputs": [],
   "source": [
    "import pandas as pd\n",
    "import matplotlib.pyplot as plt\n",
    "import seaborn as sns\n",
    "import plotly.express as px\n",
    "import numpy as np"
   ]
  },
  {
   "cell_type": "markdown",
   "metadata": {},
   "source": [
    "## 📂 Load Dataset"
   ]
  },
  {
   "cell_type": "code",
   "execution_count": 2,
   "metadata": {},
   "outputs": [],
   "source": [
    "df = pd.read_csv(\"international_debt_data.csv\")\n",
    "df.head()"
   ]
  },
  {
   "cell_type": "markdown",
   "metadata": {},
   "source": [
    "## 🛠 Handling Outliers and Data Transformation"
   ]
  },
  {
   "cell_type": "code",
   "execution_count": 3,
   "metadata": {},
   "outputs": [],
   "source": [
    "Q1 = df[\"Debt % of GDP\"].quantile(0.25)\n",
    "Q3 = df[\"Debt % of GDP\"].quantile(0.75)\n",
    "IQR = Q3 - Q1\n",
    "filtered_df = df[(df[\"Debt % of GDP\"] >= Q1 - 1.5 * IQR) & (df[\"Debt % of GDP\"] <= Q3 + 1.5 * IQR)]\n",
    "\n",
    "df[\"Log GDP\"] = np.log1p(df[\"GDP (Billion USD)\"])\n",
    "df[\"Log Debt\"] = np.log1p(df[\"Debt (Billion USD)\"])"
   ]
  },
  {
   "cell_type": "markdown",
   "metadata": {},
   "source": [
    "## 📈 Visualization 1: Debt Trend by Country (Line Chart)"
   ]
  },
  {
   "cell_type": "code",
   "execution_count": 4,
   "metadata": {},
   "outputs": [],
   "source": [
    "debt_trend_fig = px.line(filtered_df, x=\"Year\", y=\"Debt (Billion USD)\", color=\"Country\", markers=True,\n",
    "                         title=\"Debt Trend by Country (2018–2021)\")\n",
    "debt_trend_fig.show()"
   ]
  },
  {
   "cell_type": "markdown",
   "metadata": {},
   "source": [
    "## 📊 Visualization 2: Average Debt % of GDP by Country (Bar Chart)"
   ]
  },
  {
   "cell_type": "code",
   "execution_count": 5,
   "metadata": {},
   "outputs": [],
   "source": [
    "avg_debt_ratio = filtered_df.groupby(\"Country\")[\"Debt % of GDP\"].mean().reset_index().sort_values(by=\"Debt % of GDP\", ascending=False)\n",
    "plt.figure(figsize=(10,6))\n",
    "sns.barplot(data=avg_debt_ratio, x=\"Debt % of GDP\", y=\"Country\", palette=\"coolwarm\")\n",
    "plt.title(\"Average Debt as % of GDP (2018–2021)\")\n",
    "plt.xlabel(\"Debt % of GDP\")\n",
    "plt.ylabel(\"Country\")\n",
    "plt.grid(True)\n",
    "plt.tight_layout()\n",
    "plt.show()"
   ]
  },
  {
   "cell_type": "markdown",
   "metadata": {},
   "source": [
    "## 🥧 Visualization 3: Debt Sector Distribution (Pie Chart)"
   ]
  },
  {
   "cell_type": "code",
   "execution_count": 6,
   "metadata": {},
   "outputs": [],
   "source": [
    "latest_year = filtered_df[filtered_df[\"Year\"] == filtered_df[\"Year\"].max()]\n",
    "sector_counts = latest_year[\"Sector\"].value_counts()\n",
    "plt.figure(figsize=(6,6))\n",
    "plt.pie(sector_counts, labels=sector_counts.index, autopct=\"%1.1f%%\", colors=[\"skyblue\", \"orange\"])\n",
    "plt.title(\"Debt Sector Distribution (2021)\")\n",
    "plt.show()"
   ]
  },
  {
   "cell_type": "markdown",
   "metadata": {},
   "source": [
    "## 🔵 Visualization 4: Log GDP vs Log Debt with Bubble Size (Scatter Plot)"
   ]
  },
  {
   "cell_type": "code",
   "execution_count": 7,
   "metadata": {},
   "outputs": [],
   "source": [
    "scatter_fig = px.scatter(df, x=\"Log GDP\", y=\"Log Debt\", color=\"Country\",\n",
    "                         size=\"Debt % of GDP\", animation_frame=\"Year\",\n",
    "                         title=\"Log GDP vs Log Debt Over Time\")\n",
    "scatter_fig.show()"
   ]
  },
  {
   "cell_type": "markdown",
   "metadata": {},
   "source": [
    "## 📝 Key Insights"
   ]
  },
  {
   "cell_type": "code",
   "execution_count": 8,
   "metadata": {},
   "outputs": [],
   "source": [
    "print(\"\"\"\n",
    "Key Insights:\n",
    "- USA leads in absolute debt, with a high debt-to-GDP ratio (~125%).\n",
    "- Japan also displays a substantial debt load relative to GDP.\n",
    "- Emerging economies (India, Brazil) show rising debt trends.\n",
    "- Public debt dominates across regions.\n",
    "\"\"\")"
   ]
  }
 ],
 "metadata": {
  "kernelspec": {
   "display_name": "Python 3",
   "language": "python",
   "name": "python3"
  },
  "language_info": {
   "name": "python",
   "version": "3.9"
  }
 },
 "nbformat": 4,
 "nbformat_minor": 5
}
