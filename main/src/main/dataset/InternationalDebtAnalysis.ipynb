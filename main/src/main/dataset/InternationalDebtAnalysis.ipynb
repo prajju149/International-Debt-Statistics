import pandas as pd
import matplotlib.pyplot as plt
import seaborn as sns
import plotly.express as px
import numpy as np

# Load dataset
df = pd.read_csv("international_debt_data.csv")

# Handle Outliers using IQR method
Q1 = df["Debt % of GDP"].quantile(0.25)
Q3 = df["Debt % of GDP"].quantile(0.75)
IQR = Q3 - Q1
filtered_df = df[(df["Debt % of GDP"] >= Q1 - 1.5 * IQR) & (df["Debt % of GDP"] <= Q3 + 1.5 * IQR)]

# Apply log transformation to handle skewness
df["Log GDP"] = np.log1p(df["GDP (Billion USD)"])
df["Log Debt"] = np.log1p(df["Debt (Billion USD)"])

# Visualization 1: Line Chart - Debt Trend by Country
debt_trend_fig = px.line(filtered_df, x="Year", y="Debt (Billion USD)", color="Country", markers=True,
                         title="Debt Trend by Country (2018–2021)")
debt_trend_fig.show()

# Visualization 2: Bar Chart - Average Debt % of GDP by Country
avg_debt_ratio = filtered_df.groupby("Country")["Debt % of GDP"].mean().reset_index().sort_values(by="Debt % of GDP", ascending=False)
plt.figure(figsize=(10,6))
sns.barplot(data=avg_debt_ratio, x="Debt % of GDP", y="Country", palette="coolwarm")
plt.title("Average Debt as % of GDP (2018–2021)")
plt.xlabel("Debt % of GDP")
plt.ylabel("Country")
plt.grid(True)
plt.tight_layout()
plt.show()

# Visualization 3: Pie Chart - Debt Sector Distribution (2021)
latest_year = filtered_df[filtered_df["Year"] == filtered_df["Year"].max()]
sector_counts = latest_year["Sector"].value_counts()
plt.figure(figsize=(6,6))
plt.pie(sector_counts, labels=sector_counts.index, autopct="%1.1f%%", colors=["skyblue", "orange"])
plt.title("Debt Sector Distribution (2021)")
plt.show()

# Visualization 4: Scatter Plot - Log GDP vs Log Debt with Bubble Size
scatter_fig = px.scatter(df, x="Log GDP", y="Log Debt", color="Country",
                         size="Debt % of GDP", animation_frame="Year",
                         title="Log GDP vs Log Debt Over Time")
scatter_fig.show()

# Key Insights Summary
print("""
Key Insights:
- USA leads in absolute debt, with a high debt-to-GDP ratio (~125%).
- Japan also displays a substantial debt load relative to GDP.
- Emerging economies (India, Brazil) show rising debt trends.
- Public debt dominates across regions.
""")
